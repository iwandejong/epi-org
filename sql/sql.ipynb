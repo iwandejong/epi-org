{
    "metadata": {
        "kernelspec": {
            "name": "SQL",
            "display_name": "SQL",
            "language": "sql"
        },
        "language_info": {
            "name": "sql",
            "version": ""
        }
    },
    "nbformat_minor": 2,
    "nbformat": 4,
    "cells": [
        {
            "cell_type": "code",
            "source": [
                "ALTER TABLE employee\n",
                "ADD password NVARCHAR(255); "
            ],
            "metadata": {
                "azdata_cell_guid": "2a6486ef-1216-4eeb-8c58-8608bd293b86",
                "language": "sql"
            },
            "outputs": [
                {
                    "output_type": "display_data",
                    "data": {
                        "text/html": "Commands completed successfully."
                    },
                    "metadata": {}
                },
                {
                    "output_type": "display_data",
                    "data": {
                        "text/html": "Total execution time: 00:00:00.060"
                    },
                    "metadata": {}
                }
            ],
            "execution_count": 1
        },
        {
            "cell_type": "code",
            "source": [
                "DELETE FROM employee;"
            ],
            "metadata": {
                "azdata_cell_guid": "1ec82d19-f478-4a1b-9fe4-bb2f7f8de4dd",
                "language": "sql"
            },
            "outputs": [
                {
                    "output_type": "display_data",
                    "data": {
                        "text/html": "(1 row affected)"
                    },
                    "metadata": {}
                },
                {
                    "output_type": "display_data",
                    "data": {
                        "text/html": "Total execution time: 00:00:00.017"
                    },
                    "metadata": {}
                }
            ],
            "execution_count": 10
        },
        {
            "cell_type": "code",
            "source": [
                "CREATE TABLE [dbo].[organisation] (\n",
                "    [id] UNIQUEIDENTIFIER NOT NULL DEFAULT NEWID(),\n",
                "    [name] NVARCHAR (50) NULL,\n",
                "    [logo] NVARCHAR (MAX) NULL,\n",
                "    CONSTRAINT [PK_org] PRIMARY KEY CLUSTERED ([id] ASC)\n",
                ");\n",
                ""
            ],
            "metadata": {
                "language": "sql",
                "azdata_cell_guid": "fccd5959-cb42-4a35-8813-06f944492d47"
            },
            "outputs": [
                {
                    "output_type": "display_data",
                    "data": {
                        "text/html": "Commands completed successfully."
                    },
                    "metadata": {}
                },
                {
                    "output_type": "display_data",
                    "data": {
                        "text/html": "Total execution time: 00:00:00.141"
                    },
                    "metadata": {}
                }
            ],
            "execution_count": 9
        },
        {
            "cell_type": "code",
            "source": [
                "ALTER TABLE [dbo].[organisation]\n",
                "ADD [created_at] DATETIME2 DEFAULT (SYSDATETIME()) NOT NULL;\n",
                ""
            ],
            "metadata": {
                "azdata_cell_guid": "2b153597-0ab6-4185-80f3-46b1687074a7",
                "language": "sql"
            },
            "outputs": [
                {
                    "output_type": "display_data",
                    "data": {
                        "text/html": "Commands completed successfully."
                    },
                    "metadata": {}
                },
                {
                    "output_type": "display_data",
                    "data": {
                        "text/html": "Total execution time: 00:00:00.025"
                    },
                    "metadata": {}
                }
            ],
            "execution_count": 1
        }
    ]
}